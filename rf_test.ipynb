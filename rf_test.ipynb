{
 "cells": [
  {
   "cell_type": "code",
   "execution_count": null,
   "metadata": {},
   "outputs": [],
   "source": [
    "import numpy as np\n",
    "import pandas as pd\n",
    "from sklearn import svm\n",
    "import random\n",
    "from sklearn.model_selection import train_test_split as ts\n",
    "from sklearn.ensemble import RandomForestClassifier\n",
    "from sklearn.ensemble import RandomForestRegressor\n",
    "import statistics"
   ]
  },
  {
   "cell_type": "code",
   "execution_count": null,
   "metadata": {},
   "outputs": [],
   "source": [
    "traindf, labeldf, testdf = pd.read_csv('train.csv'), pd.read_csv('train_label.csv'), pd.read_csv('test.csv')"
   ]
  },
  {
   "cell_type": "code",
   "execution_count": null,
   "metadata": {},
   "outputs": [],
   "source": [
    "def encoding(dataframe, train=True):\n",
    "    df = dataframe.copy()\n",
    "    df.drop('ID', inplace=True, axis=1)\n",
    "    df.drop('arrival_date_year', inplace=True, axis=1)\n",
    "    if train:\n",
    "        df.drop('reservation_status', inplace=True, axis=1)\n",
    "        df.drop('reservation_status_date', inplace=True, axis=1)\n",
    "    df['hotel'] = df.hotel.map(lambda x: 1 if x == 'City Hotel' else 0)\n",
    "    \n",
    "    #arrival_month\n",
    "    possiblecat = 'January,February,March,April,May,June,July,August,September,October,November,December'.split(',')\n",
    "    df['arrival_date_month'] = df['arrival_date_month'].astype('category', categories=possiblecat)\n",
    "    df = pd.get_dummies(df, columns=['arrival_date_month'], dummy_na=False)\n",
    "    \n",
    "    df = pd.get_dummies(df, columns=['meal'], dummy_na=False)\n",
    "    df['country'] = df.country.map(lambda x: 'Others' \n",
    "                               if x not in ['PRT','GBR','FRA','ESP','DEU','ITA','IRL','BRA','NLD','BEL','USA','CHE'] \n",
    "                               else x)\n",
    "    df = pd.get_dummies(df, columns=['country'], dummy_na=False)\n",
    "    \n",
    "    # market_segment\n",
    "    possiblecat = ['Online TA','Offline TA/TO','Groups','Direct','Corporate','Complementary','Aviation','Undefined']\n",
    "    df['market_segment'] = df['market_segment'].astype('category', categories=possiblecat)\n",
    "    df = pd.get_dummies(df, columns=['market_segment'], dummy_na=False)\n",
    "    \n",
    "    # distribution_channel\n",
    "    possiblecat = ['TA/TO','Direct','Corporate','GDS','Undefined']\n",
    "    df['distribution_channel'] = df['distribution_channel'].astype('category', categories=possiblecat)\n",
    "    df = pd.get_dummies(df, columns=['distribution_channel'], dummy_na=False)\n",
    "    \n",
    "    #reserved_room_type & assigned_room_type\n",
    "    possiblecat = list('ABCDEFGHIJKL')\n",
    "    df['reserved_room_type'] = df['reserved_room_type'].astype('category', categories=possiblecat)\n",
    "    df['assigned_room_type'] = df['assigned_room_type'].astype('category', categories=possiblecat)\n",
    "    df = pd.get_dummies(df, columns=['reserved_room_type'], dummy_na=False)\n",
    "    df = pd.get_dummies(df, columns=['assigned_room_type'], dummy_na=False)\n",
    "    \n",
    "    df = pd.get_dummies(df, columns=['deposit_type'], dummy_na=False)\n",
    "    df['agent'] = df.agent.map(lambda x: 1 if x else 0)\n",
    "    df['company'] = df.company.map(lambda x: 1 if x else 0)\n",
    "    df = pd.get_dummies(df, columns=['customer_type'], dummy_na=False)\n",
    "    \n",
    "    #outcome variables\n",
    "    if train:\n",
    "        adr = df['adr']\n",
    "        cancel = df['is_canceled']\n",
    "    \n",
    "        df.drop('adr', inplace=True, axis=1)\n",
    "        df.drop('is_canceled', inplace=True, axis=1)\n",
    "    \n",
    "    df = df.fillna(0)\n",
    "    \n",
    "    if train:\n",
    "        return df, adr, cancel\n",
    "    else:\n",
    "        return df"
   ]
  },
  {
   "cell_type": "code",
   "execution_count": null,
   "metadata": {},
   "outputs": [],
   "source": [
    "def fromdatatolabel(dataset,labelset):\n",
    "    df = dataset.copy()\n",
    "    label_df = labelset.copy()\n",
    "    boundary_const = lambda x: 9.0 if x>=10 else(0.0 if x<0 else x)\n",
    "    predictoutcome = []\n",
    "    mlist = 'January,February,March,April,May,June,July,August,September,October,November,December'.split(',')\n",
    "    for i in label_df['arrival_date']:\n",
    "        y,m,d = i.split('-')\n",
    "        #print(y,m,d)\n",
    "        subsetdf = df[(df['arrival_date_year'] == int(y)) & \n",
    "                        (df['arrival_date_month'] == mlist[int(m)-1]) &\n",
    "                        (df['arrival_date_day_of_month'] == int(d))]\n",
    "        subsetdf['new'] = (1-subsetdf['is_canceled_pred'])*(subsetdf['stays_in_weekend_nights']+subsetdf['stays_in_week_nights'])*subsetdf['adr_pred']\n",
    "        \n",
    "        predictoutcome.append(boundary_const(np.floor(subsetdf['new'].sum()/10000)))\n",
    "    return predictoutcome"
   ]
  },
  {
   "cell_type": "code",
   "execution_count": null,
   "metadata": {},
   "outputs": [],
   "source": [
    "df,adr,cancel = encoding(traindf)\n",
    "df_test = encoding(testdf,False)"
   ]
  },
  {
   "cell_type": "code",
   "execution_count": null,
   "metadata": {},
   "outputs": [],
   "source": [
    "model_rf = RandomForestClassifier(n_estimators = 100, oob_score = True, n_jobs = -1,random_state =50,\n",
    "                                max_features = \"auto\",max_depth = 30)\n",
    "model_rf.fit(df,cancel)\n",
    "model_rf.score(df,cancel)"
   ]
  },
  {
   "cell_type": "code",
   "execution_count": null,
   "metadata": {},
   "outputs": [],
   "source": [
    "model_rfreg = RandomForestRegressor(200)\n",
    "model_rfreg.fit(df,adr)\n",
    "model_rfreg.score(df,adr)"
   ]
  },
  {
   "cell_type": "code",
   "execution_count": null,
   "metadata": {},
   "outputs": [],
   "source": [
    "ypred_rf = model_rf.predict(df_test)\n",
    "ypred_rfreg = model_rfreg.predict(df_test)\n",
    "testdf['adr_pred'] = ypred_rfreg\n",
    "testdf['is_canceled_pred'] = ypred_rf"
   ]
  },
  {
   "cell_type": "code",
   "execution_count": null,
   "metadata": {},
   "outputs": [],
   "source": [
    "labeldf_test = pd.read_csv('test_nolabel.csv')\n",
    "labeldf_test['label'] = fromdatatolabel(testdf,labeldf_test)\n",
    "labeldf_test"
   ]
  }
 ],
 "metadata": {
  "kernelspec": {
   "display_name": "Python 3",
   "language": "python",
   "name": "python3"
  },
  "language_info": {
   "codemirror_mode": {
    "name": "ipython",
    "version": 3
   },
   "file_extension": ".py",
   "mimetype": "text/x-python",
   "name": "python",
   "nbconvert_exporter": "python",
   "pygments_lexer": "ipython3",
   "version": "3.7.3"
  }
 },
 "nbformat": 4,
 "nbformat_minor": 2
}
